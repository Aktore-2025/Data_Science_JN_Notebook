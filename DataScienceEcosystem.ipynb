{
 "cells": [
  {
   "cell_type": "markdown",
   "id": "309001bc-2d0a-4af1-9a0b-e7df2a11824b",
   "metadata": {},
   "source": [
    "# Data Science Tools and Ecosystem"
   ]
  },
  {
   "cell_type": "code",
   "execution_count": 7,
   "id": "b500fbcd-2da8-4f46-a785-afe772297ab8",
   "metadata": {},
   "outputs": [],
   "source": [
    "#In this notebook, Data Science Tools and Ecosystem are summarized"
   ]
  },
  {
   "cell_type": "markdown",
   "id": "18bce3f5-3b1f-4b2c-aa16-807048c3748a",
   "metadata": {},
   "source": [
    "**Objectives:**\n",
    "- List of popular languages that used in Data Science\n",
    "- Commonly used libraries in Data Science\n",
    "- How to create a table in Jupiter Notebook\n",
    "- How to calculate a code\n",
    "- How to work in Jupiter Notebook Environment"
   ]
  },
  {
   "cell_type": "markdown",
   "id": "83a11fc1-7dfb-4c24-b888-de498f2e7776",
   "metadata": {},
   "source": [
    "# Some of the popular languages that Data Scientists use are:\n",
    "1. Python\n",
    "2. R\n",
    "3. SQL"
   ]
  },
  {
   "cell_type": "markdown",
   "id": "fe142f91-166b-48ad-a660-4b3eadd3d351",
   "metadata": {},
   "source": [
    "# Some of the commonly used libraries used by Data Scientists include:\n",
    "\n",
    "Data Manipulation & Analysis\n",
    "\n",
    "1. pandas – Tabular data structures (DataFrames), cleaning, manipulation\n",
    "2. numpy – Numerical computing, arrays, linear algebra\n",
    "\n",
    "Data Visualization\n",
    "\n",
    "1. matplotlib – Basic plotting (line, bar, scatter, histograms)\n",
    "2. seaborn – Statistical plots with nicer defaults (built on matplotlib)\n",
    "3. plotly – Interactive plots for web dashboards\n",
    "4. bokeh – Interactive and real-time visualizations\n",
    "\n",
    "Machine Learning\n",
    "\n",
    "1. scikit-learn – Classic ML algorithms (regression, clustering, classification)\n",
    "2. xgboost – Optimized gradient boosting\n",
    "3. lightgbm – Fast, efficient gradient boosting (great for large datasets)\n",
    "4. catboost – Boosting for categorical features (minimal preprocessing)\n",
    "\n",
    "Deep Learning\n",
    "\n",
    "1. TensorFlow – End-to-end deep learning framework (developed by Google)\n",
    "2. Keras – High-level API for TensorFlow (user-friendly)\n",
    "3. PyTorch – Popular deep learning framework (developed by Facebook)\n",
    "\n",
    "Natural Language Processing (NLP)\n",
    "\n",
    "1. nltk – Classical NLP tasks (tokenizing, stemming, etc.)\n",
    "2. spaCy – Industrial-strength NLP\n",
    "3. transformers (by Hugging Face) – State-of-the-art models like BERT, GPT\n",
    "\n",
    "Data Cleaning & Preprocessing\n",
    "\n",
    "1. re – Regular expressions for text cleaning\n",
    "2. missingno – Visualizing missing data\n",
    "3. sklearn.preprocessing – Standardization, encoding, scaling, etc.\n",
    "\n",
    "Data Input/Output\n",
    "\n",
    "1. openpyxl / xlrd / pandas – Read/write Excel files\n",
    "2. csv / json – Work with structured text files\n",
    "3. sqlalchemy / pandas – Connect to SQL databases\n",
    "\n",
    "Statistical Analysis\n",
    "\n",
    "1. scipy – Scientific computing and stats\n",
    "2. statsmodels – Regression, time series analysis, statistical tests\n",
    "\n",
    "Time Series\n",
    "\n",
    "1. statsmodels – ARIMA, seasonal models\n",
    "2. prophet – Forecasting library from Meta (Facebook)\n",
    "3. tsfresh – Time-series feature extraction\n",
    "\n",
    "Exploratory Data Analysis (EDA)\n",
    "\n",
    "1. pandas-profiling – Automatic reports of datasets\n",
    "2. sweetviz – Visual EDA reports\n",
    "3. dtale – Interactive web-based EDA tool"
   ]
  },
  {
   "cell_type": "markdown",
   "id": "ab443882-f33b-42f4-9b4d-274f72c0c820",
   "metadata": {},
   "source": [
    "| Data Science Tools      |                  |         |\n",
    "|-------------------------|------------------|---------|\n",
    "| Jupyter Notebook        | VS Code          | RStudio |"
   ]
  },
  {
   "cell_type": "markdown",
   "id": "bf70c30e-16ca-4373-9b7b-bb47bc9a4931",
   "metadata": {},
   "source": [
    "### Below are a few examples of evaluating arithmetic expressions in Python\n",
    "    2 + 2\n",
    "    2 - 2\n",
    "    2 * 2\n",
    "    2 / 2"
   ]
  },
  {
   "cell_type": "code",
   "execution_count": 3,
   "id": "dc99ac30-6348-42fc-87ba-df500c3c9011",
   "metadata": {},
   "outputs": [
    {
     "data": {
      "text/plain": [
       "17"
      ]
     },
     "execution_count": 3,
     "metadata": {},
     "output_type": "execute_result"
    }
   ],
   "source": [
    "# Exercise 8\n",
    "# This a simple arithmetic expression to mutiply then add integers\n",
    "(3*4)+5"
   ]
  },
  {
   "cell_type": "code",
   "execution_count": 5,
   "id": "22c0514d-a44b-4878-a944-379ee90cf828",
   "metadata": {},
   "outputs": [
    {
     "name": "stdout",
     "output_type": "stream",
     "text": [
      "The result of 200 minutes converted to hours will be 3.33\n"
     ]
    }
   ],
   "source": [
    "# Exercise 9\n",
    "# This will convert 200 minutes to hours by diving by 60\n",
    "expression = round(200 / 60, 2)\n",
    "print(f\"The result of 200 minutes converted to hours will be {expression}\")"
   ]
  },
  {
   "cell_type": "markdown",
   "id": "0b3218f6-f18b-4411-8cd8-61c9483a0299",
   "metadata": {},
   "source": [
    "## Author\n",
    "\n",
    "Nurkozha Aktorekozha"
   ]
  }
 ],
 "metadata": {
  "kernelspec": {
   "display_name": "Python [conda env:base] *",
   "language": "python",
   "name": "conda-base-py"
  },
  "language_info": {
   "codemirror_mode": {
    "name": "ipython",
    "version": 3
   },
   "file_extension": ".py",
   "mimetype": "text/x-python",
   "name": "python",
   "nbconvert_exporter": "python",
   "pygments_lexer": "ipython3",
   "version": "3.12.7"
  }
 },
 "nbformat": 4,
 "nbformat_minor": 5
}
